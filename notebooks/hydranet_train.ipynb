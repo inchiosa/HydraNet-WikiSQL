{
 "cells": [
  {
   "cell_type": "markdown",
   "metadata": {},
   "source": [
    "# Train HydraNet for WikiSQL benchmark\n",
    "\n",
    "## Prerequisites:\n",
    "- Understand the [architecture and terms](https://docs.microsoft.com/azure/machine-learning/service/concept-azure-machine-learning-architecture) introduced by Azure Machine Learning (AML)\n",
    "- Install the Python SDK:  make sure to install notebook, and contrib\n",
    "    ```\n",
    "    conda create -n azureml -y Python=3.6\n",
    "    source activate azureml\n",
    "    pip install --upgrade azureml-sdk[notebooks,contrib]\n",
    "    conda install ipywidgets\n",
    "    jupyter nbextension install --py --user azureml.widgets\n",
    "    jupyter nbextension enable azureml.widgets --user --py\n",
    "    ```\n",
    " \n",
    "You will need to restart jupyter after this\n",
    "Detailed instructions are here: https://docs.microsoft.com/en-us/azure/machine-learning/service/quickstart-create-workspace-with-python"
   ]
  },
  {
   "cell_type": "code",
   "execution_count": 1,
   "metadata": {},
   "outputs": [],
   "source": [
    "import json\n",
    "\n",
    "from azureml.core import Workspace, Experiment, Run, RunConfiguration, ComputeTarget\n",
    "# Import AzureML Libraries\n",
    "import azureml.core\n",
    "from azureml.core import Datastore, Dataset,Experiment, Workspace, RunConfiguration, ContainerRegistry, Environment\n",
    "from azureml.core.compute_target import ComputeTargetException\n",
    "from azureml.core.compute import ComputeTarget, AmlCompute\n",
    "from azureml.core.conda_dependencies import CondaDependencies\n",
    "from azureml.core.runconfig import MpiConfiguration\n",
    "\n",
    "from azureml.train.estimator import Estimator\n",
    "from azureml.train.dnn import PyTorch\n",
    "from azureml.data.datapath import DataPath, DataPathComputeBinding\n",
    "from azureml.data.data_reference import DataReference\n",
    "\n",
    "from azureml.widgets import RunDetails"
   ]
  },
  {
   "cell_type": "code",
   "execution_count": 2,
   "metadata": {},
   "outputs": [
    {
     "data": {
      "text/plain": [
       "'1.11.0'"
      ]
     },
     "execution_count": 2,
     "metadata": {},
     "output_type": "execute_result"
    }
   ],
   "source": [
    "azureml.core.VERSION"
   ]
  },
  {
   "cell_type": "code",
   "execution_count": 3,
   "metadata": {
    "tags": []
   },
   "outputs": [],
   "source": [
    "# Retrieve your workspace\n",
    "ws = Workspace.get(name=\"xiaoyzhu-turingrg\",\n",
    "                 subscription_id='a6c2a7cc-d67e-4a1a-b765-983f08c0423a',\n",
    "                  resource_group='xiaoyzhu-turingrg')"
   ]
  },
  {
   "cell_type": "code",
   "execution_count": 4,
   "metadata": {
    "tags": []
   },
   "outputs": [
    {
     "name": "stdout",
     "output_type": "stream",
     "text": [
      "Found existing compute target.\n"
     ]
    }
   ],
   "source": [
    "# Create the compute cluster\n",
    "gpu_cluster_name = \"nd40-ssh-2\" \n",
    "\n",
    "# Verify that the cluster doesn't exist already\n",
    "try:\n",
    "    gpu_compute_target = ComputeTarget(workspace=ws, name=gpu_cluster_name)\n",
    "    print('Found existing compute target.')\n",
    "except ComputeTargetException:\n",
    "    print('Creating a new compute target...')\n",
    "    compute_config = AmlCompute.provisioning_configuration(vm_size='Standard_ND40rs_v2', min_nodes=0, max_nodes=1)\n",
    "    \n",
    "    # create the cluster\n",
    "    gpu_compute_target = ComputeTarget.create(ws, gpu_cluster_name, compute_config)\n",
    "    gpu_compute_target.wait_for_completion(show_output=True)"
   ]
  },
  {
   "cell_type": "code",
   "execution_count": 5,
   "metadata": {
    "tags": []
   },
   "outputs": [
    {
     "name": "stdout",
     "output_type": "stream",
     "text": [
      "Workspace name: xiaoyzhu-turingrg\n",
      "Datastore name: workspaceblobstore\n",
      "Datastore type: AzureBlob\n",
      "Container name: azureml-blobstore-1df38ad3-d561-413a-b8c5-603f11808774\n"
     ]
    }
   ],
   "source": [
    "# The output will be stored in this blob container in the following blobs:\n",
    "# azureml/<Run Id>/output/*\n",
    "\n",
    "default_ds = ws.get_default_datastore()\n",
    "\n",
    "print('Workspace name: ' + default_ds.workspace.name,\n",
    "      'Datastore name: ' + default_ds.name,\n",
    "      'Datastore type: ' + default_ds.datastore_type,\n",
    "      'Container name: ' + default_ds.container_name, sep = '\\n')"
   ]
  },
  {
   "cell_type": "code",
   "execution_count": 8,
   "metadata": {},
   "outputs": [],
   "source": [
    "script_params = {\n",
    "    '--gpu': '0,1,2,3,4,5,6,7'\n",
    "}\n",
    "\n",
    "train_est = PyTorch(source_directory='..', \n",
    "                    script_params=script_params,\n",
    "                    compute_target=gpu_compute_target,\n",
    "                    entry_script='notebooks/prep_and_train.py',\n",
    "                    framework_version='1.4',\n",
    "                    use_gpu=True,\n",
    "                    pip_requirements_file='requirements.txt')"
   ]
  },
  {
   "cell_type": "markdown",
   "metadata": {},
   "source": [
    "Run the training. On a Standard_ND40rs_v2 VM with 8 V100 GPUs, it takes about 2 hours."
   ]
  },
  {
   "cell_type": "code",
   "execution_count": null,
   "metadata": {
    "tags": []
   },
   "outputs": [],
   "source": [
    "experiment = Experiment(ws, name=\"HydraNet\")\n",
    "run = experiment.submit(train_est)\n",
    "RunDetails(run).show()\n"
   ]
  },
  {
   "cell_type": "code",
   "execution_count": null,
   "metadata": {},
   "outputs": [],
   "source": []
  }
 ],
 "metadata": {
  "kernelspec": {
   "display_name": "Python 3.6 - AzureML",
   "language": "python",
   "name": "python3-azureml"
  },
  "language_info": {
   "codemirror_mode": {
    "name": "ipython",
    "version": 3
   },
   "file_extension": ".py",
   "mimetype": "text/x-python",
   "name": "python",
   "nbconvert_exporter": "python",
   "pygments_lexer": "ipython3",
   "version": "3.6.9"
  }
 },
 "nbformat": 4,
 "nbformat_minor": 4
}
